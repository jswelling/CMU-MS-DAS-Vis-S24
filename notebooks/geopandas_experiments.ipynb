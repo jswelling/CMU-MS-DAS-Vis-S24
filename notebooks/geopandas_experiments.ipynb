{
 "cells": [
  {
   "cell_type": "code",
   "execution_count": null,
   "id": "ba3f2819",
   "metadata": {},
   "outputs": [],
   "source": [
    "%matplotlib qt\n",
    "import matplotlib.pyplot as plt\n",
    "import pandas as pd\n",
    "import geopandas as gpd\n",
    "from pyproj import CRS\n",
    "from geopy.geocoders import Nominatim"
   ]
  },
  {
   "cell_type": "code",
   "execution_count": null,
   "id": "1ca861f1",
   "metadata": {},
   "outputs": [],
   "source": [
    "gdf = gpd.read_file('/home/welling/geo/USA/all/tl_2021_us_county.zip')"
   ]
  },
  {
   "cell_type": "code",
   "execution_count": null,
   "id": "0277a662",
   "metadata": {},
   "outputs": [],
   "source": [
    "gdf.columns"
   ]
  },
  {
   "cell_type": "code",
   "execution_count": null,
   "id": "0e3254ff",
   "metadata": {},
   "outputs": [],
   "source": [
    "gdf = gdf[gdf.STATEFP=='06']  # select CA"
   ]
  },
  {
   "cell_type": "code",
   "execution_count": null,
   "id": "a9c216e0",
   "metadata": {},
   "outputs": [],
   "source": [
    "gdf.head()"
   ]
  },
  {
   "cell_type": "markdown",
   "id": "a7b5a826",
   "metadata": {},
   "source": [
    "# Convenience function to add some commonly used attributes\n",
    "\n",
    "* *GeoSeries.area* just returns the area\n",
    "* See [GeoSeries.representative_point](https://geopandas.org/en/stable/docs/reference/api/geopandas.GeoSeries.representative_point.html) . The end result is that the __coords__ column contains a point within the boundaries of the region."
   ]
  },
  {
   "cell_type": "code",
   "execution_count": null,
   "id": "433392b7",
   "metadata": {},
   "outputs": [],
   "source": [
    "def add_area_and_label_coords(some_gdf):\n",
    "    some_gdf['area'] = some_gdf.area\n",
    "    some_gdf['coords'] = some_gdf['geometry'].apply(lambda x: x.representative_point().coords[:])\n",
    "    some_gdf['coords'] = [coords[0] for coords in some_gdf['coords']]"
   ]
  },
  {
   "cell_type": "markdown",
   "id": "729d246b",
   "metadata": {},
   "source": [
    "# A convenience function to do labeled maps and choropleths"
   ]
  },
  {
   "cell_type": "code",
   "execution_count": null,
   "id": "4fe2f27f",
   "metadata": {},
   "outputs": [],
   "source": [
    "def plot_with_labels(some_gdf, ax, name_col=None, field_col=None, **kwargs):\n",
    "    if field_col is None:\n",
    "        some_gdf.plot(ax=ax, **kwargs)\n",
    "    else:\n",
    "        some_gdf.plot(column=field_col, ax=ax, legend=True, **kwargs)\n",
    "    if name_col is not None:\n",
    "        for idx, row in some_gdf.iterrows():\n",
    "            ax.annotate(text=row[name_col], xy=row['coords'],\n",
    "                         horizontalalignment='center')"
   ]
  },
  {
   "cell_type": "code",
   "execution_count": null,
   "id": "fd1adc7e",
   "metadata": {},
   "outputs": [],
   "source": [
    "def calc_overall_centroid(some_gdf):\n",
    "    \"\"\"\n",
    "    Use the 'coords' and 'area' columns to estimate an overall centroid\n",
    "    \"\"\"\n",
    "    sum_x = 0.0\n",
    "    sum_y = 0.0\n",
    "    sum_area = 0.0\n",
    "    for idx, row in some_gdf.iterrows():\n",
    "        coord_x, coord_y = row['coords']\n",
    "        sum_x += coord_x * row['area']\n",
    "        sum_y += coord_y * row['area']\n",
    "        sum_area += row['area']\n",
    "    centroid_x = sum_x / sum_area\n",
    "    centroid_y = sum_y / sum_area\n",
    "    return centroid_x, centroid_y"
   ]
  },
  {
   "cell_type": "code",
   "execution_count": null,
   "id": "305a52c8",
   "metadata": {},
   "outputs": [],
   "source": [
    "add_area_and_label_coords(gdf)\n",
    "centroid_x, centroid_y = calc_overall_centroid(gdf)\n",
    "print(centroid_x, centroid_y)"
   ]
  },
  {
   "cell_type": "code",
   "execution_count": null,
   "id": "e02664cd",
   "metadata": {},
   "outputs": [],
   "source": [
    "fig, axes = plt.subplots(1,2)\n",
    "plot_with_labels(gdf, field_col='area', name_col='NAME', ax=axes[0])\n",
    "plot_with_labels(gdf, ax=axes[1])\n",
    "fig.suptitle('Original CRS')"
   ]
  },
  {
   "cell_type": "markdown",
   "id": "a8b8915d",
   "metadata": {},
   "source": [
    "# This is the CRS of the data when we read it in"
   ]
  },
  {
   "cell_type": "code",
   "execution_count": null,
   "id": "93db29d4",
   "metadata": {},
   "outputs": [],
   "source": [
    "gdf.crs\n"
   ]
  },
  {
   "cell_type": "markdown",
   "id": "114b5984",
   "metadata": {},
   "source": [
    "# Orthographic projection centered on our centroid\n",
    "See [Orthographic projection with pyproj for penguin tracking in Antarctica](https://towardsdatascience.com/orthographic-projection-with-pyproj-for-penguin-tracking-in-antarctica-18cd2bf2d570) for the trick."
   ]
  },
  {
   "cell_type": "code",
   "execution_count": null,
   "id": "88352aa0",
   "metadata": {},
   "outputs": [],
   "source": [
    "lat = centroid_y\n",
    "lon = centroid_x\n",
    "ortho = CRS.from_proj4(\"+proj=ortho +lat_0={} +lon_0={} +x_0=0 +y_0=0 +a=6370997 +b=6370997 +units=m +no_defs\".format(lat, lon))"
   ]
  },
  {
   "cell_type": "markdown",
   "id": "5af5adde",
   "metadata": {},
   "source": [
    "Convert the coordinates to this new CRS"
   ]
  },
  {
   "cell_type": "code",
   "execution_count": null,
   "id": "cd346a3d",
   "metadata": {},
   "outputs": [],
   "source": [
    "ortho_gdf = gdf.to_crs(ortho)\n",
    "ortho_gdf.crs"
   ]
  },
  {
   "cell_type": "code",
   "execution_count": null,
   "id": "e10070e5",
   "metadata": {},
   "outputs": [],
   "source": [
    "add_area_and_label_coords(ortho_gdf)\n",
    "fig, axes = plt.subplots(1,2)\n",
    "plot_with_labels(ortho_gdf, field_col='area', name_col='NAME', ax=axes[0])\n",
    "plot_with_labels(ortho_gdf, ax=axes[1])\n",
    "fig.suptitle('Ortho')"
   ]
  },
  {
   "cell_type": "markdown",
   "id": "eba39e03",
   "metadata": {},
   "source": [
    "# Repeat with Universal Transverse Mercator\n",
    "because it is commonly used"
   ]
  },
  {
   "cell_type": "code",
   "execution_count": null,
   "id": "2e365c57",
   "metadata": {},
   "outputs": [],
   "source": [
    "utm_proj = CRS.from_proj4(\"+proj=utm +zone=10 +north\")\n",
    "print(utm_proj)"
   ]
  },
  {
   "cell_type": "code",
   "execution_count": null,
   "id": "64eca358",
   "metadata": {},
   "outputs": [],
   "source": [
    "utm_gdf = gdf.to_crs(utm_proj)\n",
    "utm_gdf.crs"
   ]
  },
  {
   "cell_type": "code",
   "execution_count": null,
   "id": "94ff2b1b",
   "metadata": {},
   "outputs": [],
   "source": [
    "add_area_and_label_coords(utm_gdf)\n",
    "fig, axes = plt.subplots(1,2)\n",
    "plot_with_labels(utm_gdf, field_col='area', name_col='NAME', ax=axes[0])\n",
    "plot_with_labels(utm_gdf, ax=axes[1])\n",
    "fig.suptitle('Universal Transverse Mercator Zone 10 North')"
   ]
  },
  {
   "cell_type": "markdown",
   "id": "f6bf4ee6",
   "metadata": {},
   "source": [
    "# For contrast, let's try a CRS for an inappropriately chosen region: \n",
    "[EPSG:32633](https://epsg.io/32633)"
   ]
  },
  {
   "cell_type": "code",
   "execution_count": null,
   "id": "57516a4f",
   "metadata": {},
   "outputs": [],
   "source": [
    "new_gdf = gdf.to_crs(\"EPSG:32633\")"
   ]
  },
  {
   "cell_type": "code",
   "execution_count": null,
   "id": "020bd68c",
   "metadata": {
    "scrolled": false
   },
   "outputs": [],
   "source": [
    "new_gdf.crs"
   ]
  },
  {
   "cell_type": "code",
   "execution_count": null,
   "id": "741af971",
   "metadata": {},
   "outputs": [],
   "source": [
    "add_area_and_label_coords(new_gdf)\n",
    "fig, axes = plt.subplots(1,2)\n",
    "plot_with_labels(new_gdf, field_col='area', name_col='NAME', ax=axes[0])\n",
    "plot_with_labels(new_gdf, ax=axes[1])\n",
    "fig.suptitle('Universal Transverse Mercator Zone 33N')"
   ]
  },
  {
   "cell_type": "markdown",
   "id": "a2eababe",
   "metadata": {},
   "source": [
    "# Now let's look at FIPS codes"
   ]
  },
  {
   "cell_type": "code",
   "execution_count": null,
   "id": "26903387",
   "metadata": {},
   "outputs": [],
   "source": [
    "fips_gdf = gpd.read_file('/home/welling/geo/USA/all/tl_2021_us_county.shp')\n",
    "display(fips_gdf.columns)\n",
    "fips_gdf = fips_gdf[fips_gdf.STATEFP=='42']  # select PA\n",
    "add_area_and_label_coords(fips_gdf)"
   ]
  },
  {
   "cell_type": "markdown",
   "id": "166098a7",
   "metadata": {},
   "source": [
    "Make some label strings combining state and county FIPS codes"
   ]
  },
  {
   "cell_type": "code",
   "execution_count": null,
   "id": "ae9033ce",
   "metadata": {},
   "outputs": [],
   "source": [
    "def build_fips_string(row):\n",
    "    return f\"{row['STATEFP']}{row['COUNTYFP']}\"\n",
    "fips_gdf['fips_string'] = fips_gdf.apply(build_fips_string, axis=1)\n",
    "fips_gdf.head()"
   ]
  },
  {
   "cell_type": "code",
   "execution_count": null,
   "id": "90ca2770",
   "metadata": {},
   "outputs": [],
   "source": [
    "fig, axes = plt.subplots(2,1)\n",
    "plot_with_labels(fips_gdf, name_col='NAME', ax=axes[0])\n",
    "plot_with_labels(fips_gdf, name_col='fips_string', ax=axes[1])\n"
   ]
  },
  {
   "cell_type": "markdown",
   "id": "0748790b",
   "metadata": {},
   "source": [
    "# Now some geopy examples"
   ]
  },
  {
   "cell_type": "code",
   "execution_count": null,
   "id": "61521a7a",
   "metadata": {},
   "outputs": [],
   "source": [
    "geolocator = Nominatim(user_agent=\"ms_das_vis\")\n",
    "location = geolocator.geocode(\"425 South Craig St., Pittsburgh\")\n",
    "print(f'address: {location.address}')\n",
    "print(f'point: {location.point}')\n",
    "#print(f'raw: {location.raw}')\n",
    "print(f'altitude: {location.altitude}')\n",
    "print(f'latitude: {location.latitude}')\n",
    "print(f'longitude: {location.longitude}')"
   ]
  },
  {
   "cell_type": "code",
   "execution_count": null,
   "id": "e95797fc",
   "metadata": {},
   "outputs": [],
   "source": [
    "geolocator.reverse((40.44501531264918, -79.94863300565322), exactly_one=False)  # (latitude, longitude)"
   ]
  },
  {
   "cell_type": "markdown",
   "id": "91d02465",
   "metadata": {},
   "source": [
    "## We can get distances and travel times as well\n",
    "But we need to explicitly handle some HTTP requests for this part."
   ]
  },
  {
   "cell_type": "code",
   "execution_count": null,
   "id": "cd016ce7",
   "metadata": {},
   "outputs": [],
   "source": [
    "import requests\n",
    "import urllib\n",
    "import datetime\n",
    "from pprint import pprint"
   ]
  },
  {
   "cell_type": "code",
   "execution_count": null,
   "id": "08e05f52",
   "metadata": {},
   "outputs": [],
   "source": [
    "geolocator = Nominatim(user_agent=\"ms_das_vis\")\n",
    "addr1 = \"425 South Craig St., Pittsburgh, PA\"\n",
    "addr2 = \"6304 Forbes Ave., Pittsburgh, PA\"\n",
    "loc1 = geolocator.geocode(addr1)\n",
    "loc2 = geolocator.geocode(addr2)"
   ]
  },
  {
   "cell_type": "code",
   "execution_count": null,
   "id": "1a7d390e",
   "metadata": {},
   "outputs": [],
   "source": [
    "response = requests.get('http://router.project-osrm.org/route/v1/driving/'\n",
    "                        + f'{loc1.longitude},{loc1.latitude};{loc2.longitude},{loc2.latitude}'\n",
    "                       )"
   ]
  },
  {
   "cell_type": "code",
   "execution_count": null,
   "id": "82d7fec0",
   "metadata": {},
   "outputs": [],
   "source": [
    "response.status_code"
   ]
  },
  {
   "cell_type": "code",
   "execution_count": null,
   "id": "ee7d996b",
   "metadata": {},
   "outputs": [],
   "source": [
    "response.json()"
   ]
  },
  {
   "cell_type": "markdown",
   "id": "79f4503d",
   "metadata": {
    "collapsed": true
   },
   "source": [
    "Travel distance is in meters, duration in seconds."
   ]
  },
  {
   "cell_type": "markdown",
   "id": "0c47becb",
   "metadata": {},
   "source": [
    "# You can use Google Maps, *if* you have an API key."
   ]
  },
  {
   "cell_type": "code",
   "execution_count": null,
   "id": "3bf29d92",
   "metadata": {},
   "outputs": [],
   "source": [
    "time_now = datetime.datetime.now(datetime.timezone.utc)\n",
    "time_epoch = datetime.datetime(1970, 1, 1, tzinfo=datetime.timezone.utc)  # Unix epoch\n",
    "target_timestamp = (time_now - time_epoch).total_seconds()"
   ]
  },
  {
   "cell_type": "code",
   "execution_count": null,
   "id": "9ef51eab",
   "metadata": {},
   "outputs": [],
   "source": [
    "query = {\n",
    "    \"arrival_time\": int(target_timestamp),\n",
    "    \"origins\": f\"{loc1.latitude},{loc1.longitude}\",\n",
    "    \"destinations\": f\"{loc2.latitude},{loc2.longitude}\"\n",
    "}\n",
    "\n",
    "pprint(query)\n",
    "\n",
    "response = requests.get('http://maps.googleapis.com/maps/api/distancematrix/json?'\n",
    "                        + urllib.parse.urlencode(query))\n",
    "print(response)\n",
    "print(response.json())"
   ]
  },
  {
   "cell_type": "code",
   "execution_count": null,
   "id": "a82713f0",
   "metadata": {},
   "outputs": [],
   "source": []
  }
 ],
 "metadata": {
  "kernelspec": {
   "display_name": "Python (VisClassEnv)",
   "language": "python",
   "name": "visclassenv"
  },
  "language_info": {
   "codemirror_mode": {
    "name": "ipython",
    "version": 3
   },
   "file_extension": ".py",
   "mimetype": "text/x-python",
   "name": "python",
   "nbconvert_exporter": "python",
   "pygments_lexer": "ipython3",
   "version": "3.8.12"
  }
 },
 "nbformat": 4,
 "nbformat_minor": 5
}
