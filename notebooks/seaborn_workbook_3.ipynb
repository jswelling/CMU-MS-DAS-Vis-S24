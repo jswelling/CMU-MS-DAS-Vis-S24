{
 "cells": [
  {
   "cell_type": "code",
   "execution_count": null,
   "id": "9c09ca9f",
   "metadata": {},
   "outputs": [],
   "source": [
    "%matplotlib notebook\n",
    "import numpy as np\n",
    "import pandas as pd\n",
    "import matplotlib.pyplot as plt\n",
    "import seaborn as sns"
   ]
  },
  {
   "cell_type": "code",
   "execution_count": null,
   "id": "a43245b6",
   "metadata": {},
   "outputs": [],
   "source": [
    "sns.set_theme()"
   ]
  },
  {
   "cell_type": "code",
   "execution_count": null,
   "id": "7957a9dd",
   "metadata": {},
   "outputs": [],
   "source": [
    "penguins_df = sns.load_dataset(\"penguins\")\n",
    "\n",
    "print(f\"Data for {len(penguins_df)} specific penguins\")\n",
    "display(penguins_df.head())"
   ]
  },
  {
   "cell_type": "code",
   "execution_count": null,
   "id": "04796716",
   "metadata": {},
   "outputs": [],
   "source": [
    "tips_df = sns.load_dataset(\"tips\")\n",
    "\n",
    "print(f\"Data for {len(tips_df)} specific tips\")\n",
    "display(tips_df.head())"
   ]
  },
  {
   "cell_type": "code",
   "execution_count": null,
   "id": "1b58932f",
   "metadata": {},
   "outputs": [],
   "source": [
    "diamonds_df = sns.load_dataset(\"diamonds\")\n",
    "\n",
    "print(f\"Data for {len(diamonds_df)} specific diamonds\")\n",
    "display(diamonds_df.head())"
   ]
  },
  {
   "cell_type": "code",
   "execution_count": null,
   "id": "2c0639bb",
   "metadata": {},
   "outputs": [],
   "source": [
    "titanic_df = sns.load_dataset(\"titanic\")\n",
    "\n",
    "print(f\"Data for {len(titanic_df)} specific passengers on the Titanic\")\n",
    "titanic_df.head()"
   ]
  },
  {
   "cell_type": "code",
   "execution_count": null,
   "id": "d0ba20e8",
   "metadata": {},
   "outputs": [],
   "source": [
    "fmri_df = sns.load_dataset(\"fmri\")\n",
    "\n",
    "print(f\"Data for {len(fmri_df.groupby(['timepoint']))} specific fmri activation curves\")\n",
    "display(fmri_df.head())"
   ]
  },
  {
   "cell_type": "markdown",
   "id": "a4a2b02a",
   "metadata": {},
   "source": [
    "# The fMRI dataset is really interesting.\n",
    "\n",
    "For a given subject, there is a time series of signals from multiple brain regions:"
   ]
  },
  {
   "cell_type": "code",
   "execution_count": null,
   "id": "ba4215e8",
   "metadata": {},
   "outputs": [],
   "source": [
    "one_subject = fmri_df[fmri_df['subject']=='s5']\n",
    "one_subject.head()"
   ]
  },
  {
   "cell_type": "code",
   "execution_count": null,
   "id": "7abe7502",
   "metadata": {
    "scrolled": false
   },
   "outputs": [],
   "source": [
    "sns.relplot(data=one_subject, x='timepoint', y='signal', kind='line', col='region', row='event')"
   ]
  },
  {
   "cell_type": "markdown",
   "id": "91b0d4ae",
   "metadata": {},
   "source": [
    "## So the manifold is discrete across subjects, regions, and events\n",
    "and the fiber is 1 dimensional, over time.\n",
    "\n",
    "The *dots* dataset is similar in structure but contains neuronal firing time series.  I don't know the details."
   ]
  },
  {
   "cell_type": "code",
   "execution_count": null,
   "id": "4ec047c2",
   "metadata": {},
   "outputs": [],
   "source": [
    "dots_df = sns.load_dataset(\"dots\")\n",
    "print(f\"Data for {len(dots_df.groupby(['time']))} specific neuronal firing curves\")\n",
    "display(dots_df.head())"
   ]
  },
  {
   "cell_type": "markdown",
   "id": "57abf4c3",
   "metadata": {},
   "source": [
    "# Note that some of these data columns are Categorical\n",
    "Categorical is an actual Pandas type.  It is *not* the same as just being strings.  If you know R, you can think of Categorical columns as being Factors in the R sense."
   ]
  },
  {
   "cell_type": "code",
   "execution_count": null,
   "id": "ba1bf644",
   "metadata": {},
   "outputs": [],
   "source": [
    "tips_df.dtypes"
   ]
  },
  {
   "cell_type": "code",
   "execution_count": null,
   "id": "c03d75af",
   "metadata": {},
   "outputs": [],
   "source": [
    "tips_df['smoker']"
   ]
  },
  {
   "cell_type": "markdown",
   "id": "b9deb875",
   "metadata": {},
   "source": [
    "The following examples are mostly from the [Pandas Categorical Data documentation](https://pandas.pydata.org/pandas-docs/stable/user_guide/categorical.html) .  If you are doing statistics in Pandas, you want to understand this."
   ]
  },
  {
   "cell_type": "code",
   "execution_count": null,
   "id": "ef39c9c7",
   "metadata": {},
   "outputs": [],
   "source": [
    "df = pd.DataFrame({\"A\": [\"a\", \"b\", \"c\", \"a\"]})\n",
    "\n",
    "df[\"B\"] = df[\"A\"].astype(\"category\")\n",
    "\n",
    "df"
   ]
  },
  {
   "cell_type": "code",
   "execution_count": null,
   "id": "e5dc47b2",
   "metadata": {},
   "outputs": [],
   "source": [
    "df.dtypes"
   ]
  },
  {
   "cell_type": "code",
   "execution_count": null,
   "id": "0f65424e",
   "metadata": {},
   "outputs": [],
   "source": [
    "df['B']"
   ]
  },
  {
   "cell_type": "markdown",
   "id": "ebd706d5",
   "metadata": {},
   "source": [
    "## Pandas provides methods to bin numerical data into categories"
   ]
  },
  {
   "cell_type": "code",
   "execution_count": null,
   "id": "b6eea82f",
   "metadata": {},
   "outputs": [],
   "source": [
    "df = pd.DataFrame({\"value\": np.random.randint(0, 100, 20)})\n",
    "\n",
    "labels = [\"{0} - {1}\".format(i, i + 9) for i in range(0, 100, 10)]\n",
    "\n",
    "df[\"group\"] = pd.cut(df.value, range(0, 105, 10), right=False, labels=labels)\n",
    "\n",
    "df.head(10)"
   ]
  },
  {
   "cell_type": "code",
   "execution_count": null,
   "id": "c30ec428",
   "metadata": {},
   "outputs": [],
   "source": [
    "df['group']"
   ]
  },
  {
   "cell_type": "markdown",
   "id": "b0bd9986",
   "metadata": {},
   "source": [
    "## The levels in a category can be ordered\n",
    "but sometimes they are not."
   ]
  },
  {
   "cell_type": "code",
   "execution_count": null,
   "id": "680396f2",
   "metadata": {},
   "outputs": [],
   "source": [
    "df[\"group\"].cat.ordered"
   ]
  },
  {
   "cell_type": "code",
   "execution_count": null,
   "id": "11edb1ca",
   "metadata": {},
   "outputs": [],
   "source": [
    "df[\"group\"].head()"
   ]
  },
  {
   "cell_type": "code",
   "execution_count": null,
   "id": "ee54350e",
   "metadata": {},
   "outputs": [],
   "source": [
    "df[\"group\"].head().cat.as_unordered()"
   ]
  },
  {
   "cell_type": "code",
   "execution_count": null,
   "id": "c245eafe",
   "metadata": {},
   "outputs": [],
   "source": [
    "s = pd.Series(pd.Categorical([\"a\", \"b\", \"c\", \"a\"], ordered=False))\n",
    "\n",
    "s.sort_values(inplace=True) # we will get lexical ordering\n",
    "\n",
    "s"
   ]
  },
  {
   "cell_type": "code",
   "execution_count": null,
   "id": "fa85e825",
   "metadata": {},
   "outputs": [],
   "source": [
    "try:\n",
    "    print(s.min(), s.max())\n",
    "except TypeError:\n",
    "    print(\"see? It doesn't work.\")"
   ]
  },
  {
   "cell_type": "code",
   "execution_count": null,
   "id": "23bfe587",
   "metadata": {},
   "outputs": [],
   "source": [
    "s = s.cat.set_categories(['b', 'c', 'a'], ordered=True)\n",
    "s"
   ]
  },
  {
   "cell_type": "code",
   "execution_count": null,
   "id": "50896d4c",
   "metadata": {},
   "outputs": [],
   "source": [
    "s.min(), s.max()"
   ]
  },
  {
   "cell_type": "code",
   "execution_count": null,
   "id": "50604f5d",
   "metadata": {},
   "outputs": [],
   "source": [
    "s.sort_values(inplace=True)\n",
    "s"
   ]
  },
  {
   "cell_type": "markdown",
   "id": "89376068",
   "metadata": {},
   "source": [
    "# Visualizing Statistical Relationships\n",
    "This mostly explores `relplot()`, meaning \"relationship plot\""
   ]
  },
  {
   "cell_type": "code",
   "execution_count": null,
   "id": "863d3f09",
   "metadata": {},
   "outputs": [],
   "source": [
    "sns.relplot(x=\"total_bill\", y=\"tip\", hue=\"smoker\", data=tips_df).set(title=\"What's wrong with this plot?\")"
   ]
  },
  {
   "cell_type": "markdown",
   "id": "0b6ec881",
   "metadata": {},
   "source": [
    "## Serious issue- points plotted later hide those plotted early\n",
    "\n",
    "The labels are taken in category order, but the samples get plotted in the order in which they appear.  We can see this by shuffling the rows of the dataframe with the Pandas `DataFrame.sample()` method:"
   ]
  },
  {
   "cell_type": "code",
   "execution_count": null,
   "id": "e945a5f3",
   "metadata": {},
   "outputs": [],
   "source": [
    "sns.relplot(x=\"total_bill\", y=\"tip\", hue=\"smoker\", data=tips_df.sample(frac=1))"
   ]
  },
  {
   "cell_type": "markdown",
   "id": "8ebbb1c0",
   "metadata": {},
   "source": [
    "## This is a serious problem, and very common.\n",
    "Transparency can help; larger plotting points make the problem worse.\n",
    "\n",
    "One solution is to switch to a density plot like the one below (to be explained in the next section)\n"
   ]
  },
  {
   "cell_type": "code",
   "execution_count": null,
   "id": "6441e439",
   "metadata": {},
   "outputs": [],
   "source": [
    "sns.displot(data=tips_df, x=\"total_bill\", y=\"tip\", hue=\"smoker\", kind=\"kde\")"
   ]
  },
  {
   "cell_type": "markdown",
   "id": "7d6b5f9c",
   "metadata": {},
   "source": [
    "## How long does the bootstrapping really take?"
   ]
  },
  {
   "cell_type": "code",
   "execution_count": null,
   "id": "fc9bbca5",
   "metadata": {},
   "outputs": [],
   "source": [
    "sns.relplot(x=\"timepoint\", y=\"signal\", kind=\"line\", data=fmri_df, col=\"region\", hue=\"event\");"
   ]
  },
  {
   "cell_type": "markdown",
   "id": "760523e6",
   "metadata": {},
   "source": [
    "## Bootstrapped Confidence Intervals vs. Standard Deviation\n",
    "\n",
    "Consider this in the context of [Statistical estimation and error bars](https://seaborn.pydata.org/tutorial/error_bars.html)"
   ]
  },
  {
   "cell_type": "code",
   "execution_count": null,
   "id": "f55a8865",
   "metadata": {},
   "outputs": [],
   "source": [
    "sns.__version__\n"
   ]
  },
  {
   "cell_type": "markdown",
   "id": "ccf01e46",
   "metadata": {},
   "source": [
    "### Turn off the error bars entirely"
   ]
  },
  {
   "cell_type": "code",
   "execution_count": null,
   "id": "66f7afeb",
   "metadata": {
    "scrolled": false
   },
   "outputs": [],
   "source": [
    "sns.relplot(x=\"timepoint\", y=\"signal\", kind=\"line\", data=fmri_df, col=\"region\", hue=\"event\", errorbar=None);"
   ]
  },
  {
   "cell_type": "markdown",
   "id": "0676df46",
   "metadata": {},
   "source": [
    "### *percentile interval* (non-parametric)"
   ]
  },
  {
   "cell_type": "code",
   "execution_count": null,
   "id": "d53750a7",
   "metadata": {
    "scrolled": false
   },
   "outputs": [],
   "source": [
    "sns.relplot(x=\"timepoint\", y=\"signal\", kind=\"line\", data=fmri_df, col=\"region\", hue=\"event\", errorbar=\"pi\");"
   ]
  },
  {
   "cell_type": "markdown",
   "id": "6d81bce6",
   "metadata": {},
   "source": [
    "### *confidence interval* (non-parametric)"
   ]
  },
  {
   "cell_type": "code",
   "execution_count": null,
   "id": "fc19f6de",
   "metadata": {
    "scrolled": false
   },
   "outputs": [],
   "source": [
    "sns.relplot(x=\"timepoint\", y=\"signal\", kind=\"line\", data=fmri_df, col=\"region\", hue=\"event\", errorbar=\"ci\");"
   ]
  },
  {
   "cell_type": "markdown",
   "id": "dac75ce9",
   "metadata": {},
   "source": [
    "### *standard deviation* (parametric)"
   ]
  },
  {
   "cell_type": "code",
   "execution_count": null,
   "id": "35d7435d",
   "metadata": {
    "scrolled": false
   },
   "outputs": [],
   "source": [
    "sns.relplot(x=\"timepoint\", y=\"signal\", kind=\"line\", data=fmri_df, col=\"region\", hue=\"event\", errorbar=\"sd\");"
   ]
  },
  {
   "cell_type": "markdown",
   "id": "fbd9737b",
   "metadata": {},
   "source": [
    "### *standard error* (parametric)"
   ]
  },
  {
   "cell_type": "code",
   "execution_count": null,
   "id": "be4c2ea9",
   "metadata": {
    "scrolled": false
   },
   "outputs": [],
   "source": [
    "sns.relplot(x=\"timepoint\", y=\"signal\", kind=\"line\", data=fmri_df, col=\"region\", hue=\"event\", errorbar=\"se\");"
   ]
  },
  {
   "cell_type": "markdown",
   "id": "e7dc2820",
   "metadata": {},
   "source": [
    "# Visualizing Distributions of Data\n",
    "\n",
    "This explores `displot()`, meaning \"distribution plots\".\n",
    "\n",
    "We'll just look through this one, with a few comments:\n",
    "* The question of how many bins to use is really important.  It comes up all the time.\n",
    "* Do you understand how KDE works?\n",
    "* Do you understand what marginal distributions are?\n"
   ]
  },
  {
   "cell_type": "markdown",
   "id": "311d739f",
   "metadata": {},
   "source": [
    "# Plotting Categorical Data\n",
    "This explores `catplot()`, meaning \"category plot\".  This is the figure-level interface to a variety of lower-level routines.  \n",
    "\n",
    "**NOTE** that the Categorical nature of some data columns now becomes important!\n",
    "\n",
    "Start with a subtle difference: the different categories are not connected in space, so let's change the grid background to make it less suggestive of a spatial relationship."
   ]
  },
  {
   "cell_type": "code",
   "execution_count": null,
   "id": "e9104333",
   "metadata": {},
   "outputs": [],
   "source": [
    "sns.catplot(x=\"day\", y=\"total_bill\", data=tips_df)"
   ]
  },
  {
   "cell_type": "code",
   "execution_count": null,
   "id": "5a4b825c",
   "metadata": {},
   "outputs": [],
   "source": [
    "sns.set_theme(style=\"ticks\", color_codes=True)\n",
    "sns.catplot(x=\"day\", y=\"total_bill\", data=tips_df)"
   ]
  },
  {
   "cell_type": "markdown",
   "id": "9c46f7c2",
   "metadata": {},
   "source": [
    "## Note the steps taken to control over-plotting.\n",
    "The 'jitter' parameter on `kind=\"strip\"` and the offsetting used in `kind=\"swarm\"` are used to avoid the over-plotting problem we saw earlier.  Why won't they work for `relplot()` ?"
   ]
  },
  {
   "cell_type": "code",
   "execution_count": null,
   "id": "b9296ce8",
   "metadata": {},
   "outputs": [],
   "source": [
    "tips_df.dtypes"
   ]
  },
  {
   "cell_type": "markdown",
   "id": "86dbecc8",
   "metadata": {},
   "source": [
    "## Understanding boxplots and violinplots\n",
    "Boxplots and related idioms like violinplots are really ubiquitous in real-world scientific data analysis."
   ]
  },
  {
   "cell_type": "code",
   "execution_count": null,
   "id": "e4d50e80",
   "metadata": {},
   "outputs": [],
   "source": [
    "samps = np.random.normal(size=1000)\n",
    "fig, axes = plt.subplots(1,2)\n",
    "sns.boxplot(data=samps, ax=axes[0])\n",
    "sns.violinplot(data=samps, ax=axes[1])"
   ]
  },
  {
   "cell_type": "markdown",
   "id": "081478d7",
   "metadata": {},
   "source": [
    "Note that the Z range of the two figures is different!"
   ]
  },
  {
   "cell_type": "markdown",
   "id": "ca8cde2b",
   "metadata": {},
   "source": [
    "### Parts of a boxplot:\n",
    "* The box itself spans from Q1 to Q3, with the central line at the median.  Note that non-parametric statistics are used, not mean and standard deviation.\n",
    "* The whiskers cut off at $Q1 - 1.5*IQR$ and $Q3 + 1.5*IQR$ .\n",
    "* The points beyond that are *fliers*, presumed to be outliers.  Of course in this case they aren't really outliers, since the whole sample came from a standard normal distribution.  They just happen to be extreme values."
   ]
  },
  {
   "cell_type": "markdown",
   "id": "cc1d8d88",
   "metadata": {},
   "source": [
    "### Why doesn't the violin plot look like a normal distribution?\n",
    "Because KDE is a very crude process.  Beware."
   ]
  },
  {
   "cell_type": "markdown",
   "id": "47ee2507",
   "metadata": {},
   "source": [
    "## In this example, matplotlib semantics meet seaborn"
   ]
  },
  {
   "cell_type": "code",
   "execution_count": null,
   "id": "3926b5a7",
   "metadata": {},
   "outputs": [],
   "source": [
    "sns.catplot(x=\"class\", y=\"survived\", hue=\"sex\",\n",
    "            palette={\"male\": \"g\", \"female\": \"m\"},\n",
    "            markers=[\"^\", \"o\"], linestyles=[\"-\", \"--\"],\n",
    "            kind=\"point\", data=titanic_df)"
   ]
  },
  {
   "cell_type": "markdown",
   "id": "b093fe8b",
   "metadata": {},
   "source": [
    "# Visualizing Regression Models\n",
    "This explores *regplot()*, the figure-level interface for plotting regression models.\n",
    "\n",
    "We'll just discuss this on the fly, since I don't know how much you know about general linear models.\n"
   ]
  },
  {
   "cell_type": "code",
   "execution_count": null,
   "id": "67ab6541",
   "metadata": {},
   "outputs": [],
   "source": []
  }
 ],
 "metadata": {
  "kernelspec": {
   "display_name": "Python (VisClassEnv)",
   "language": "python",
   "name": "visclassenv"
  },
  "language_info": {
   "codemirror_mode": {
    "name": "ipython",
    "version": 3
   },
   "file_extension": ".py",
   "mimetype": "text/x-python",
   "name": "python",
   "nbconvert_exporter": "python",
   "pygments_lexer": "ipython3",
   "version": "3.8.12"
  }
 },
 "nbformat": 4,
 "nbformat_minor": 5
}
