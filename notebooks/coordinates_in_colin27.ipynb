{
 "cells": [
  {
   "cell_type": "code",
   "execution_count": null,
   "id": "c233fb46",
   "metadata": {},
   "outputs": [],
   "source": [
    "%matplotlib\n",
    "import numpy as np\n",
    "import matplotlib.pyplot as plt\n",
    "import ipywidgets as widgets\n",
    "import time"
   ]
  },
  {
   "cell_type": "markdown",
   "id": "2c326213",
   "metadata": {},
   "source": [
    "## Load the dataset.\n",
    "You'll need to customize the file location, of course."
   ]
  },
  {
   "cell_type": "code",
   "execution_count": null,
   "id": "a3258207",
   "metadata": {
    "tags": []
   },
   "outputs": [],
   "source": [
    "colin_icbm = np.fromfile('/home/welling/git/CMU-MS-DAS-Vis-S24/data/colin27_icbm_181_217_181.bytes', dtype=np.uint8)\n",
    "\n",
    "colin_icbm = np.reshape(colin_icbm, (181, 217, 181), order='F')"
   ]
  },
  {
   "cell_type": "markdown",
   "id": "3708e6b9",
   "metadata": {},
   "source": [
    "## Mark the right side of the data\n",
    "\n",
    "Front and back, top and bottom are obvious, but left and right can be confusing.  Let's make a visible mark.  By the \"radiological convention\", low first index (low X coordinate) corresponds to the patient's right side."
   ]
  },
  {
   "cell_type": "code",
   "execution_count": null,
   "id": "3173c74a",
   "metadata": {},
   "outputs": [],
   "source": [
    "colin_icbm_marked = colin_icbm.copy()\n",
    "colin_icbm_marked[5,:,:] = 200  # insert a plane of high values at low first index"
   ]
  },
  {
   "cell_type": "markdown",
   "id": "3455a983",
   "metadata": {},
   "source": [
    "## Draw a simple contour plot"
   ]
  },
  {
   "cell_type": "code",
   "execution_count": null,
   "id": "730ff7c5",
   "metadata": {},
   "outputs": [],
   "source": [
    "x = np.arange(0.0, colin_icbm_marked.shape[0], 1)\n",
    "y = np.arange(0.0, colin_icbm_marked.shape[1], 1)\n",
    "z = np.arange(0.0, colin_icbm_marked.shape[2], 1)\n",
    "X_xy, Y_xy = np.meshgrid(x, y, indexing='ij')\n",
    "print(colin_icbm_marked.shape)\n",
    "print(X_xy.shape)\n",
    "print(Y_xy.shape)"
   ]
  },
  {
   "cell_type": "code",
   "execution_count": null,
   "id": "02a2aee9",
   "metadata": {},
   "outputs": [],
   "source": [
    "fig, ax = plt.subplots()\n",
    "countours = ax.contour(X_xy, Y_xy, colin_icbm_marked[:,:,50])\n"
   ]
  },
  {
   "cell_type": "markdown",
   "id": "50aafc77",
   "metadata": {},
   "source": [
    "See the marker plane above, at low X?\n",
    "\n",
    "## Create a function to draw the slice.\n",
    "Now we start building some code complexity.  The first thing we want to fix is the aspect ratio of the figure."
   ]
  },
  {
   "cell_type": "code",
   "execution_count": null,
   "id": "e8606a44",
   "metadata": {},
   "outputs": [],
   "source": [
    "def draw_z_slice(slice_num, fig, ax):\n",
    "    contours = ax.contour(X_xy, Y_xy, colin_icbm_marked[:,:,slice_num])\n",
    "    ax.set_title(f'Z slice {slice_num}')\n",
    "    ax.set_xlabel('X')\n",
    "    ax.set_ylabel('Y')\n",
    "    # set the aspect ratio\n",
    "    ratio = colin_icbm_marked.shape[1]/colin_icbm_marked.shape[0]\n",
    "    x_left, x_right = ax.get_xlim()\n",
    "    y_low, y_high = ax.get_ylim()\n",
    "    ax.set_aspect(abs((x_right - x_left)/(y_low - y_high))*ratio)\n",
    "                  \n",
    "    \n",
    "    "
   ]
  },
  {
   "cell_type": "code",
   "execution_count": null,
   "id": "7ee1577f",
   "metadata": {},
   "outputs": [],
   "source": [
    "# Z range is 0:180\n",
    "fig, axes = plt.subplots(1,4)\n",
    "draw_z_slice(10, fig, axes[0])\n",
    "draw_z_slice(60, fig, axes[1])\n",
    "draw_z_slice(110, fig, axes[2])\n",
    "draw_z_slice(160, fig, axes[3])\n"
   ]
  },
  {
   "cell_type": "markdown",
   "id": "ff1a5244",
   "metadata": {},
   "source": [
    "## Create comparable functions to draw slices in X and Y"
   ]
  },
  {
   "cell_type": "code",
   "execution_count": null,
   "id": "4243b9db",
   "metadata": {},
   "outputs": [],
   "source": [
    "X_yz, Y_yz = np.meshgrid(y, z, indexing='ij')\n",
    "\n",
    "def draw_x_slice(slice_num, fig, ax):\n",
    "    contours = ax.contour(X_yz, Y_yz, colin_icbm_marked[slice_num,:,:])\n",
    "    ax.set_title(f'X slice {slice_num}')\n",
    "    ax.set_xlabel('Y')\n",
    "    ax.set_ylabel('Z')\n",
    "    # set the aspect ratio\n",
    "    ratio = colin_icbm_marked.shape[2]/colin_icbm_marked.shape[1]\n",
    "    x_left, x_right = ax.get_xlim()\n",
    "    y_low, y_high = ax.get_ylim()\n",
    "    ax.set_aspect(abs((x_right - x_left)/(y_low - y_high))*ratio)\n",
    "                  \n",
    "    \n",
    "    "
   ]
  },
  {
   "cell_type": "code",
   "execution_count": null,
   "id": "acb7f208",
   "metadata": {},
   "outputs": [],
   "source": [
    "# X range is 0:180\n",
    "fig, axes = plt.subplots(1,4)\n",
    "draw_x_slice(10, fig, axes[0])\n",
    "draw_x_slice(60, fig, axes[1])\n",
    "draw_x_slice(110, fig, axes[2])\n",
    "draw_x_slice(160, fig, axes[3])\n"
   ]
  },
  {
   "cell_type": "code",
   "execution_count": null,
   "id": "4c2aace7",
   "metadata": {},
   "outputs": [],
   "source": [
    "X_zx, Y_zx = np.meshgrid(z, x, indexing='ij')\n",
    "\n",
    "def draw_y_slice(slice_num, fig, ax):\n",
    "    contours = ax.contour(X_zx, Y_zx, colin_icbm_marked[:,slice_num,:].transpose())\n",
    "    ax.set_title(f'Y slice {slice_num}')\n",
    "    ax.set_xlabel('Z')\n",
    "    ax.set_ylabel('X')\n",
    "    # set the aspect ratio\n",
    "    ratio = colin_icbm_marked.shape[1]/colin_icbm_marked.shape[2]\n",
    "    x_left, x_right = ax.get_xlim()\n",
    "    y_low, y_high = ax.get_ylim()\n",
    "    ax.set_aspect(abs((x_right - x_left)/(y_low - y_high))*ratio)\n",
    "                  \n",
    "    \n",
    "    "
   ]
  },
  {
   "cell_type": "code",
   "execution_count": null,
   "id": "8df805ec",
   "metadata": {},
   "outputs": [],
   "source": [
    "# Y range is 0:216\n",
    "fig, axes = plt.subplots(1,4)\n",
    "draw_y_slice(10, fig, axes[0])\n",
    "draw_y_slice(70, fig, axes[1])\n",
    "draw_y_slice(130, fig, axes[2])\n",
    "draw_y_slice(206, fig, axes[3])\n"
   ]
  },
  {
   "cell_type": "code",
   "execution_count": null,
   "id": "e1d5f7b4",
   "metadata": {},
   "outputs": [],
   "source": []
  }
 ],
 "metadata": {
  "kernelspec": {
   "display_name": "VisClassIPyWidgetsEnv",
   "language": "python",
   "name": "visclassipywidgetsenv"
  },
  "language_info": {
   "codemirror_mode": {
    "name": "ipython",
    "version": 3
   },
   "file_extension": ".py",
   "mimetype": "text/x-python",
   "name": "python",
   "nbconvert_exporter": "python",
   "pygments_lexer": "ipython3",
   "version": "3.8.1"
  }
 },
 "nbformat": 4,
 "nbformat_minor": 5
}
