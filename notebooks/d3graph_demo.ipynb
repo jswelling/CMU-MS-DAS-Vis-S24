{
 "cells": [
  {
   "cell_type": "markdown",
   "id": "a102eb84",
   "metadata": {},
   "source": [
    "# Demonstration of the D3Graph Library\n",
    "See [Erdogant's D3Graph repo](https://github.com/erdogant/d3graph)\n",
    "\n",
    "I had to add the package to our generic requirements to run this notebook:\n",
    "```\n",
    "$ conda activate VisClassEnv\n",
    "$ pip install d3graph\n",
    "```\n"
   ]
  },
  {
   "cell_type": "code",
   "execution_count": null,
   "id": "3b3388fa",
   "metadata": {},
   "outputs": [],
   "source": [
    "import pandas as pd\n",
    "from IPython.display import display, HTML\n",
    "from d3graph import d3graph, vec2adjmat"
   ]
  },
  {
   "cell_type": "code",
   "execution_count": null,
   "id": "b17ef033",
   "metadata": {},
   "outputs": [],
   "source": [
    "# Create example network\n",
    "source = ['node A','node F','node B','node B','node B','node A','node C','node Z']\n",
    "target = ['node F','node B','node J','node F','node F','node M','node M','node A']\n",
    "weight = [5.56, 0.5, 0.64, 0.23, 0.9, 3.28, 0.5, 0.45]\n",
    "# Convert to adjacency matrix\n",
    "adjmat = vec2adjmat(source, target, weight=weight)\n",
    "# adjmat is a Pandas DataFrame\n",
    "adjmat"
   ]
  },
  {
   "cell_type": "code",
   "execution_count": null,
   "id": "ae3537d2",
   "metadata": {
    "scrolled": true
   },
   "outputs": [],
   "source": [
    "# Initialize\n",
    "d3 = d3graph()\n",
    "# Proces adjmat\n",
    "d3.graph(adjmat)\n",
    "# Set some properties\n",
    "d3.set_node_properties(color=adjmat.columns.values,\n",
    "                       label=['node 1','node 2','node 3','node 4','node 5','node 6','node 7'])\n",
    "# Plot\n",
    "d3.show(filepath=\"/tmp/junk.html\", notebook=True, save_button=False)\n"
   ]
  }
 ],
 "metadata": {
  "kernelspec": {
   "display_name": "Python (VisClassEnv)",
   "language": "python",
   "name": "visclassenv"
  },
  "language_info": {
   "codemirror_mode": {
    "name": "ipython",
    "version": 3
   },
   "file_extension": ".py",
   "mimetype": "text/x-python",
   "name": "python",
   "nbconvert_exporter": "python",
   "pygments_lexer": "ipython3",
   "version": "3.8.12"
  }
 },
 "nbformat": 4,
 "nbformat_minor": 5
}
